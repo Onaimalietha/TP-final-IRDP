{
 "cells": [
  {
   "cell_type": "code",
<<<<<<< HEAD
   "execution_count": 1,
=======
   "execution_count": 2,
>>>>>>> origin/main
   "metadata": {},
   "outputs": [
    {
     "name": "stderr",
     "output_type": "stream",
     "text": [
<<<<<<< HEAD
      "2025-01-11 01:00:26.796553: I tensorflow/core/util/port.cc:153] oneDNN custom operations are on. You may see slightly different numerical results due to floating-point round-off errors from different computation orders. To turn them off, set the environment variable `TF_ENABLE_ONEDNN_OPTS=0`.\n",
      "2025-01-11 01:00:26.797282: I external/local_xla/xla/tsl/cuda/cudart_stub.cc:32] Could not find cuda drivers on your machine, GPU will not be used.\n",
      "2025-01-11 01:00:26.801059: I external/local_xla/xla/tsl/cuda/cudart_stub.cc:32] Could not find cuda drivers on your machine, GPU will not be used.\n",
      "2025-01-11 01:00:26.811262: E external/local_xla/xla/stream_executor/cuda/cuda_fft.cc:477] Unable to register cuFFT factory: Attempting to register factory for plugin cuFFT when one has already been registered\n",
      "WARNING: All log messages before absl::InitializeLog() is called are written to STDERR\n",
      "E0000 00:00:1736568026.827622  351455 cuda_dnn.cc:8310] Unable to register cuDNN factory: Attempting to register factory for plugin cuDNN when one has already been registered\n",
      "E0000 00:00:1736568026.832368  351455 cuda_blas.cc:1418] Unable to register cuBLAS factory: Attempting to register factory for plugin cuBLAS when one has already been registered\n",
      "2025-01-11 01:00:26.850737: I tensorflow/core/platform/cpu_feature_guard.cc:210] This TensorFlow binary is optimized to use available CPU instructions in performance-critical operations.\n",
=======
      "2025-01-10 18:23:31.685103: I tensorflow/core/util/port.cc:153] oneDNN custom operations are on. You may see slightly different numerical results due to floating-point round-off errors from different computation orders. To turn them off, set the environment variable `TF_ENABLE_ONEDNN_OPTS=0`.\n",
      "2025-01-10 18:23:31.689475: I external/local_xla/xla/tsl/cuda/cudart_stub.cc:32] Could not find cuda drivers on your machine, GPU will not be used.\n",
      "2025-01-10 18:23:31.735317: I external/local_xla/xla/tsl/cuda/cudart_stub.cc:32] Could not find cuda drivers on your machine, GPU will not be used.\n",
      "2025-01-10 18:23:31.788093: E external/local_xla/xla/stream_executor/cuda/cuda_fft.cc:477] Unable to register cuFFT factory: Attempting to register factory for plugin cuFFT when one has already been registered\n",
      "WARNING: All log messages before absl::InitializeLog() is called are written to STDERR\n",
      "E0000 00:00:1736544211.846710  279474 cuda_dnn.cc:8310] Unable to register cuDNN factory: Attempting to register factory for plugin cuDNN when one has already been registered\n",
      "E0000 00:00:1736544211.865322  279474 cuda_blas.cc:1418] Unable to register cuBLAS factory: Attempting to register factory for plugin cuBLAS when one has already been registered\n",
      "2025-01-10 18:23:31.907918: I tensorflow/core/platform/cpu_feature_guard.cc:210] This TensorFlow binary is optimized to use available CPU instructions in performance-critical operations.\n",
>>>>>>> origin/main
      "To enable the following instructions: AVX2 AVX512F AVX512_VNNI FMA, in other operations, rebuild TensorFlow with the appropriate compiler flags.\n"
     ]
    }
   ],
   "source": [
    "import numpy as np\n",
    "import matplotlib.pyplot as plt\n",
    "import pandas as pd\n",
    "from keras.datasets import cifar10\n",
    "import cv2"
   ]
  },
  {
   "cell_type": "code",
<<<<<<< HEAD
   "execution_count": 2,
=======
   "execution_count": 3,
>>>>>>> origin/main
   "metadata": {},
   "outputs": [],
   "source": [
    "(X_train, y_train), (X_test, y_test) = cifar10.load_data()\n",
    "values, count = np.unique(y_train, return_counts=True)"
   ]
  },
  {
   "cell_type": "code",
<<<<<<< HEAD
   "execution_count": 3,
=======
   "execution_count": 4,
>>>>>>> origin/main
   "metadata": {},
   "outputs": [],
   "source": [
    "def properties(data):\n",
    "    print(f\"The dataset has {data.shape[0]} images.\")\n",
    "    values, count = np.unique(data, return_counts = True)\n",
    "    for i in zip(values, count):\n",
    "        print(f\"Value {i[0]} has {i[1]} samples\")"
   ]
  },
  {
   "cell_type": "code",
<<<<<<< HEAD
   "execution_count": 4,
=======
   "execution_count": 5,
>>>>>>> origin/main
   "metadata": {},
   "outputs": [
    {
     "name": "stdout",
     "output_type": "stream",
     "text": [
      "labels and values for train data :\n",
      "The dataset has 50000 images.\n",
      "Value 0 has 5000 samples\n",
      "Value 1 has 5000 samples\n",
      "Value 2 has 5000 samples\n",
      "Value 3 has 5000 samples\n",
      "Value 4 has 5000 samples\n",
      "Value 5 has 5000 samples\n",
      "Value 6 has 5000 samples\n",
      "Value 7 has 5000 samples\n",
      "Value 8 has 5000 samples\n",
      "Value 9 has 5000 samples\n",
      "None\n"
     ]
    }
   ],
   "source": [
    "print(f\"labels and values for train data :\")\n",
    "print(f\"{properties(y_train)}\")"
   ]
  },
  {
   "cell_type": "code",
<<<<<<< HEAD
   "execution_count": 5,
=======
   "execution_count": 6,
>>>>>>> origin/main
   "metadata": {},
   "outputs": [
    {
     "name": "stdout",
     "output_type": "stream",
     "text": [
      "labels and values for test data :\n",
      "The dataset has 10000 images.\n",
      "Value 0 has 1000 samples\n",
      "Value 1 has 1000 samples\n",
      "Value 2 has 1000 samples\n",
      "Value 3 has 1000 samples\n",
      "Value 4 has 1000 samples\n",
      "Value 5 has 1000 samples\n",
      "Value 6 has 1000 samples\n",
      "Value 7 has 1000 samples\n",
      "Value 8 has 1000 samples\n",
      "Value 9 has 1000 samples\n",
      "None\n"
     ]
    }
   ],
   "source": [
    "print(f\"labels and values for test data :\")\n",
    "print(f\"{properties(y_test)}\")"
   ]
  },
  {
   "cell_type": "code",
<<<<<<< HEAD
   "execution_count": 6,
=======
   "execution_count": 7,
>>>>>>> origin/main
   "metadata": {},
   "outputs": [],
   "source": [
    "labels = [\"airplane\", \"automobile\", \"bird\", \"cat\", \"deer\", \"dog\", \"frog\", \"horse\", \"ship\", \"truck\"]"
   ]
  },
  {
   "cell_type": "code",
<<<<<<< HEAD
   "execution_count": 7,
=======
   "execution_count": 52,
>>>>>>> origin/main
   "metadata": {},
   "outputs": [],
   "source": [
    "X_train = X_train / 255.0\n",
    "X_test = X_test / 255.0"
   ]
  },
  {
   "cell_type": "code",
<<<<<<< HEAD
   "execution_count": 8,
=======
   "execution_count": 28,
>>>>>>> origin/main
   "metadata": {},
   "outputs": [],
   "source": [
    "X_train_flat = X_train.reshape(X_train.shape[0], -1)\n",
    "y_train = y_train.reshape(-1,)\n",
    "X_test_flat = X_test.reshape(X_test.shape[0], -1)\n",
    "y_test = y_test.reshape(-1,)"
   ]
  },
  {
   "cell_type": "markdown",
   "metadata": {},
   "source": [
    "### Applying in the raw data."
   ]
  },
  {
   "cell_type": "code",
<<<<<<< HEAD
   "execution_count": 9,
=======
   "execution_count": 86,
>>>>>>> origin/main
   "metadata": {},
   "outputs": [
    {
     "name": "stderr",
     "output_type": "stream",
     "text": [
      "/home/arthur/Desktop/ML_topics/IRP/final_work/TP-final-IRDP/IRP_tp/lib/python3.12/site-packages/sklearn/linear_model/_logistic.py:1247: FutureWarning: 'multi_class' was deprecated in version 1.5 and will be removed in 1.7. From then on, it will always use 'multinomial'. Leave it to its default value to avoid this warning.\n",
      "  warnings.warn(\n"
     ]
    },
    {
     "name": "stdout",
     "output_type": "stream",
     "text": [
<<<<<<< HEAD
      "CPU times: user 47min 49s, sys: 14.5 s, total: 48min 4s\n",
      "Wall time: 7min 6s\n"
=======
      "CPU times: user 3min 27s, sys: 227 ms, total: 3min 28s\n",
      "Wall time: 27.7 s\n"
>>>>>>> origin/main
     ]
    },
    {
     "name": "stderr",
     "output_type": "stream",
     "text": [
      "/home/arthur/Desktop/ML_topics/IRP/final_work/TP-final-IRDP/IRP_tp/lib/python3.12/site-packages/sklearn/linear_model/_logistic.py:465: ConvergenceWarning: lbfgs failed to converge (status=1):\n",
      "STOP: TOTAL NO. OF ITERATIONS REACHED LIMIT.\n",
      "\n",
      "Increase the number of iterations (max_iter) or scale the data as shown in:\n",
      "    https://scikit-learn.org/stable/modules/preprocessing.html\n",
      "Please also refer to the documentation for alternative solver options:\n",
      "    https://scikit-learn.org/stable/modules/linear_model.html#logistic-regression\n",
      "  n_iter_i = _check_optimize_result(\n"
     ]
    },
    {
     "data": {
      "text/html": [
<<<<<<< HEAD
       "<style>#sk-container-id-1 {\n",
=======
       "<style>#sk-container-id-4 {\n",
>>>>>>> origin/main
       "  /* Definition of color scheme common for light and dark mode */\n",
       "  --sklearn-color-text: #000;\n",
       "  --sklearn-color-text-muted: #666;\n",
       "  --sklearn-color-line: gray;\n",
       "  /* Definition of color scheme for unfitted estimators */\n",
       "  --sklearn-color-unfitted-level-0: #fff5e6;\n",
       "  --sklearn-color-unfitted-level-1: #f6e4d2;\n",
       "  --sklearn-color-unfitted-level-2: #ffe0b3;\n",
       "  --sklearn-color-unfitted-level-3: chocolate;\n",
       "  /* Definition of color scheme for fitted estimators */\n",
       "  --sklearn-color-fitted-level-0: #f0f8ff;\n",
       "  --sklearn-color-fitted-level-1: #d4ebff;\n",
       "  --sklearn-color-fitted-level-2: #b3dbfd;\n",
       "  --sklearn-color-fitted-level-3: cornflowerblue;\n",
       "\n",
       "  /* Specific color for light theme */\n",
       "  --sklearn-color-text-on-default-background: var(--sg-text-color, var(--theme-code-foreground, var(--jp-content-font-color1, black)));\n",
       "  --sklearn-color-background: var(--sg-background-color, var(--theme-background, var(--jp-layout-color0, white)));\n",
       "  --sklearn-color-border-box: var(--sg-text-color, var(--theme-code-foreground, var(--jp-content-font-color1, black)));\n",
       "  --sklearn-color-icon: #696969;\n",
       "\n",
       "  @media (prefers-color-scheme: dark) {\n",
       "    /* Redefinition of color scheme for dark theme */\n",
       "    --sklearn-color-text-on-default-background: var(--sg-text-color, var(--theme-code-foreground, var(--jp-content-font-color1, white)));\n",
       "    --sklearn-color-background: var(--sg-background-color, var(--theme-background, var(--jp-layout-color0, #111)));\n",
       "    --sklearn-color-border-box: var(--sg-text-color, var(--theme-code-foreground, var(--jp-content-font-color1, white)));\n",
       "    --sklearn-color-icon: #878787;\n",
       "  }\n",
       "}\n",
       "\n",
<<<<<<< HEAD
       "#sk-container-id-1 {\n",
       "  color: var(--sklearn-color-text);\n",
       "}\n",
       "\n",
       "#sk-container-id-1 pre {\n",
       "  padding: 0;\n",
       "}\n",
       "\n",
       "#sk-container-id-1 input.sk-hidden--visually {\n",
=======
       "#sk-container-id-4 {\n",
       "  color: var(--sklearn-color-text);\n",
       "}\n",
       "\n",
       "#sk-container-id-4 pre {\n",
       "  padding: 0;\n",
       "}\n",
       "\n",
       "#sk-container-id-4 input.sk-hidden--visually {\n",
>>>>>>> origin/main
       "  border: 0;\n",
       "  clip: rect(1px 1px 1px 1px);\n",
       "  clip: rect(1px, 1px, 1px, 1px);\n",
       "  height: 1px;\n",
       "  margin: -1px;\n",
       "  overflow: hidden;\n",
       "  padding: 0;\n",
       "  position: absolute;\n",
       "  width: 1px;\n",
       "}\n",
       "\n",
<<<<<<< HEAD
       "#sk-container-id-1 div.sk-dashed-wrapped {\n",
=======
       "#sk-container-id-4 div.sk-dashed-wrapped {\n",
>>>>>>> origin/main
       "  border: 1px dashed var(--sklearn-color-line);\n",
       "  margin: 0 0.4em 0.5em 0.4em;\n",
       "  box-sizing: border-box;\n",
       "  padding-bottom: 0.4em;\n",
       "  background-color: var(--sklearn-color-background);\n",
       "}\n",
       "\n",
<<<<<<< HEAD
       "#sk-container-id-1 div.sk-container {\n",
=======
       "#sk-container-id-4 div.sk-container {\n",
>>>>>>> origin/main
       "  /* jupyter's `normalize.less` sets `[hidden] { display: none; }`\n",
       "     but bootstrap.min.css set `[hidden] { display: none !important; }`\n",
       "     so we also need the `!important` here to be able to override the\n",
       "     default hidden behavior on the sphinx rendered scikit-learn.org.\n",
       "     See: https://github.com/scikit-learn/scikit-learn/issues/21755 */\n",
       "  display: inline-block !important;\n",
       "  position: relative;\n",
       "}\n",
       "\n",
<<<<<<< HEAD
       "#sk-container-id-1 div.sk-text-repr-fallback {\n",
=======
       "#sk-container-id-4 div.sk-text-repr-fallback {\n",
>>>>>>> origin/main
       "  display: none;\n",
       "}\n",
       "\n",
       "div.sk-parallel-item,\n",
       "div.sk-serial,\n",
       "div.sk-item {\n",
       "  /* draw centered vertical line to link estimators */\n",
       "  background-image: linear-gradient(var(--sklearn-color-text-on-default-background), var(--sklearn-color-text-on-default-background));\n",
       "  background-size: 2px 100%;\n",
       "  background-repeat: no-repeat;\n",
       "  background-position: center center;\n",
       "}\n",
       "\n",
       "/* Parallel-specific style estimator block */\n",
       "\n",
<<<<<<< HEAD
       "#sk-container-id-1 div.sk-parallel-item::after {\n",
=======
       "#sk-container-id-4 div.sk-parallel-item::after {\n",
>>>>>>> origin/main
       "  content: \"\";\n",
       "  width: 100%;\n",
       "  border-bottom: 2px solid var(--sklearn-color-text-on-default-background);\n",
       "  flex-grow: 1;\n",
       "}\n",
       "\n",
<<<<<<< HEAD
       "#sk-container-id-1 div.sk-parallel {\n",
=======
       "#sk-container-id-4 div.sk-parallel {\n",
>>>>>>> origin/main
       "  display: flex;\n",
       "  align-items: stretch;\n",
       "  justify-content: center;\n",
       "  background-color: var(--sklearn-color-background);\n",
       "  position: relative;\n",
       "}\n",
       "\n",
<<<<<<< HEAD
       "#sk-container-id-1 div.sk-parallel-item {\n",
=======
       "#sk-container-id-4 div.sk-parallel-item {\n",
>>>>>>> origin/main
       "  display: flex;\n",
       "  flex-direction: column;\n",
       "}\n",
       "\n",
<<<<<<< HEAD
       "#sk-container-id-1 div.sk-parallel-item:first-child::after {\n",
=======
       "#sk-container-id-4 div.sk-parallel-item:first-child::after {\n",
>>>>>>> origin/main
       "  align-self: flex-end;\n",
       "  width: 50%;\n",
       "}\n",
       "\n",
<<<<<<< HEAD
       "#sk-container-id-1 div.sk-parallel-item:last-child::after {\n",
=======
       "#sk-container-id-4 div.sk-parallel-item:last-child::after {\n",
>>>>>>> origin/main
       "  align-self: flex-start;\n",
       "  width: 50%;\n",
       "}\n",
       "\n",
<<<<<<< HEAD
       "#sk-container-id-1 div.sk-parallel-item:only-child::after {\n",
=======
       "#sk-container-id-4 div.sk-parallel-item:only-child::after {\n",
>>>>>>> origin/main
       "  width: 0;\n",
       "}\n",
       "\n",
       "/* Serial-specific style estimator block */\n",
       "\n",
<<<<<<< HEAD
       "#sk-container-id-1 div.sk-serial {\n",
=======
       "#sk-container-id-4 div.sk-serial {\n",
>>>>>>> origin/main
       "  display: flex;\n",
       "  flex-direction: column;\n",
       "  align-items: center;\n",
       "  background-color: var(--sklearn-color-background);\n",
       "  padding-right: 1em;\n",
       "  padding-left: 1em;\n",
       "}\n",
       "\n",
       "\n",
       "/* Toggleable style: style used for estimator/Pipeline/ColumnTransformer box that is\n",
       "clickable and can be expanded/collapsed.\n",
       "- Pipeline and ColumnTransformer use this feature and define the default style\n",
       "- Estimators will overwrite some part of the style using the `sk-estimator` class\n",
       "*/\n",
       "\n",
       "/* Pipeline and ColumnTransformer style (default) */\n",
       "\n",
<<<<<<< HEAD
       "#sk-container-id-1 div.sk-toggleable {\n",
=======
       "#sk-container-id-4 div.sk-toggleable {\n",
>>>>>>> origin/main
       "  /* Default theme specific background. It is overwritten whether we have a\n",
       "  specific estimator or a Pipeline/ColumnTransformer */\n",
       "  background-color: var(--sklearn-color-background);\n",
       "}\n",
       "\n",
       "/* Toggleable label */\n",
<<<<<<< HEAD
       "#sk-container-id-1 label.sk-toggleable__label {\n",
=======
       "#sk-container-id-4 label.sk-toggleable__label {\n",
>>>>>>> origin/main
       "  cursor: pointer;\n",
       "  display: flex;\n",
       "  width: 100%;\n",
       "  margin-bottom: 0;\n",
       "  padding: 0.5em;\n",
       "  box-sizing: border-box;\n",
       "  text-align: center;\n",
       "  align-items: start;\n",
       "  justify-content: space-between;\n",
       "  gap: 0.5em;\n",
       "}\n",
       "\n",
<<<<<<< HEAD
       "#sk-container-id-1 label.sk-toggleable__label .caption {\n",
=======
       "#sk-container-id-4 label.sk-toggleable__label .caption {\n",
>>>>>>> origin/main
       "  font-size: 0.6rem;\n",
       "  font-weight: lighter;\n",
       "  color: var(--sklearn-color-text-muted);\n",
       "}\n",
       "\n",
<<<<<<< HEAD
       "#sk-container-id-1 label.sk-toggleable__label-arrow:before {\n",
=======
       "#sk-container-id-4 label.sk-toggleable__label-arrow:before {\n",
>>>>>>> origin/main
       "  /* Arrow on the left of the label */\n",
       "  content: \"▸\";\n",
       "  float: left;\n",
       "  margin-right: 0.25em;\n",
       "  color: var(--sklearn-color-icon);\n",
       "}\n",
       "\n",
<<<<<<< HEAD
       "#sk-container-id-1 label.sk-toggleable__label-arrow:hover:before {\n",
=======
       "#sk-container-id-4 label.sk-toggleable__label-arrow:hover:before {\n",
>>>>>>> origin/main
       "  color: var(--sklearn-color-text);\n",
       "}\n",
       "\n",
       "/* Toggleable content - dropdown */\n",
       "\n",
<<<<<<< HEAD
       "#sk-container-id-1 div.sk-toggleable__content {\n",
=======
       "#sk-container-id-4 div.sk-toggleable__content {\n",
>>>>>>> origin/main
       "  max-height: 0;\n",
       "  max-width: 0;\n",
       "  overflow: hidden;\n",
       "  text-align: left;\n",
       "  /* unfitted */\n",
       "  background-color: var(--sklearn-color-unfitted-level-0);\n",
       "}\n",
       "\n",
<<<<<<< HEAD
       "#sk-container-id-1 div.sk-toggleable__content.fitted {\n",
=======
       "#sk-container-id-4 div.sk-toggleable__content.fitted {\n",
>>>>>>> origin/main
       "  /* fitted */\n",
       "  background-color: var(--sklearn-color-fitted-level-0);\n",
       "}\n",
       "\n",
<<<<<<< HEAD
       "#sk-container-id-1 div.sk-toggleable__content pre {\n",
=======
       "#sk-container-id-4 div.sk-toggleable__content pre {\n",
>>>>>>> origin/main
       "  margin: 0.2em;\n",
       "  border-radius: 0.25em;\n",
       "  color: var(--sklearn-color-text);\n",
       "  /* unfitted */\n",
       "  background-color: var(--sklearn-color-unfitted-level-0);\n",
       "}\n",
       "\n",
<<<<<<< HEAD
       "#sk-container-id-1 div.sk-toggleable__content.fitted pre {\n",
=======
       "#sk-container-id-4 div.sk-toggleable__content.fitted pre {\n",
>>>>>>> origin/main
       "  /* unfitted */\n",
       "  background-color: var(--sklearn-color-fitted-level-0);\n",
       "}\n",
       "\n",
<<<<<<< HEAD
       "#sk-container-id-1 input.sk-toggleable__control:checked~div.sk-toggleable__content {\n",
=======
       "#sk-container-id-4 input.sk-toggleable__control:checked~div.sk-toggleable__content {\n",
>>>>>>> origin/main
       "  /* Expand drop-down */\n",
       "  max-height: 200px;\n",
       "  max-width: 100%;\n",
       "  overflow: auto;\n",
       "}\n",
       "\n",
<<<<<<< HEAD
       "#sk-container-id-1 input.sk-toggleable__control:checked~label.sk-toggleable__label-arrow:before {\n",
=======
       "#sk-container-id-4 input.sk-toggleable__control:checked~label.sk-toggleable__label-arrow:before {\n",
>>>>>>> origin/main
       "  content: \"▾\";\n",
       "}\n",
       "\n",
       "/* Pipeline/ColumnTransformer-specific style */\n",
       "\n",
<<<<<<< HEAD
       "#sk-container-id-1 div.sk-label input.sk-toggleable__control:checked~label.sk-toggleable__label {\n",
=======
       "#sk-container-id-4 div.sk-label input.sk-toggleable__control:checked~label.sk-toggleable__label {\n",
>>>>>>> origin/main
       "  color: var(--sklearn-color-text);\n",
       "  background-color: var(--sklearn-color-unfitted-level-2);\n",
       "}\n",
       "\n",
<<<<<<< HEAD
       "#sk-container-id-1 div.sk-label.fitted input.sk-toggleable__control:checked~label.sk-toggleable__label {\n",
=======
       "#sk-container-id-4 div.sk-label.fitted input.sk-toggleable__control:checked~label.sk-toggleable__label {\n",
>>>>>>> origin/main
       "  background-color: var(--sklearn-color-fitted-level-2);\n",
       "}\n",
       "\n",
       "/* Estimator-specific style */\n",
       "\n",
       "/* Colorize estimator box */\n",
<<<<<<< HEAD
       "#sk-container-id-1 div.sk-estimator input.sk-toggleable__control:checked~label.sk-toggleable__label {\n",
=======
       "#sk-container-id-4 div.sk-estimator input.sk-toggleable__control:checked~label.sk-toggleable__label {\n",
>>>>>>> origin/main
       "  /* unfitted */\n",
       "  background-color: var(--sklearn-color-unfitted-level-2);\n",
       "}\n",
       "\n",
<<<<<<< HEAD
       "#sk-container-id-1 div.sk-estimator.fitted input.sk-toggleable__control:checked~label.sk-toggleable__label {\n",
=======
       "#sk-container-id-4 div.sk-estimator.fitted input.sk-toggleable__control:checked~label.sk-toggleable__label {\n",
>>>>>>> origin/main
       "  /* fitted */\n",
       "  background-color: var(--sklearn-color-fitted-level-2);\n",
       "}\n",
       "\n",
<<<<<<< HEAD
       "#sk-container-id-1 div.sk-label label.sk-toggleable__label,\n",
       "#sk-container-id-1 div.sk-label label {\n",
=======
       "#sk-container-id-4 div.sk-label label.sk-toggleable__label,\n",
       "#sk-container-id-4 div.sk-label label {\n",
>>>>>>> origin/main
       "  /* The background is the default theme color */\n",
       "  color: var(--sklearn-color-text-on-default-background);\n",
       "}\n",
       "\n",
       "/* On hover, darken the color of the background */\n",
<<<<<<< HEAD
       "#sk-container-id-1 div.sk-label:hover label.sk-toggleable__label {\n",
=======
       "#sk-container-id-4 div.sk-label:hover label.sk-toggleable__label {\n",
>>>>>>> origin/main
       "  color: var(--sklearn-color-text);\n",
       "  background-color: var(--sklearn-color-unfitted-level-2);\n",
       "}\n",
       "\n",
       "/* Label box, darken color on hover, fitted */\n",
<<<<<<< HEAD
       "#sk-container-id-1 div.sk-label.fitted:hover label.sk-toggleable__label.fitted {\n",
=======
       "#sk-container-id-4 div.sk-label.fitted:hover label.sk-toggleable__label.fitted {\n",
>>>>>>> origin/main
       "  color: var(--sklearn-color-text);\n",
       "  background-color: var(--sklearn-color-fitted-level-2);\n",
       "}\n",
       "\n",
       "/* Estimator label */\n",
       "\n",
<<<<<<< HEAD
       "#sk-container-id-1 div.sk-label label {\n",
=======
       "#sk-container-id-4 div.sk-label label {\n",
>>>>>>> origin/main
       "  font-family: monospace;\n",
       "  font-weight: bold;\n",
       "  display: inline-block;\n",
       "  line-height: 1.2em;\n",
       "}\n",
       "\n",
<<<<<<< HEAD
       "#sk-container-id-1 div.sk-label-container {\n",
=======
       "#sk-container-id-4 div.sk-label-container {\n",
>>>>>>> origin/main
       "  text-align: center;\n",
       "}\n",
       "\n",
       "/* Estimator-specific */\n",
<<<<<<< HEAD
       "#sk-container-id-1 div.sk-estimator {\n",
=======
       "#sk-container-id-4 div.sk-estimator {\n",
>>>>>>> origin/main
       "  font-family: monospace;\n",
       "  border: 1px dotted var(--sklearn-color-border-box);\n",
       "  border-radius: 0.25em;\n",
       "  box-sizing: border-box;\n",
       "  margin-bottom: 0.5em;\n",
       "  /* unfitted */\n",
       "  background-color: var(--sklearn-color-unfitted-level-0);\n",
       "}\n",
       "\n",
<<<<<<< HEAD
       "#sk-container-id-1 div.sk-estimator.fitted {\n",
=======
       "#sk-container-id-4 div.sk-estimator.fitted {\n",
>>>>>>> origin/main
       "  /* fitted */\n",
       "  background-color: var(--sklearn-color-fitted-level-0);\n",
       "}\n",
       "\n",
       "/* on hover */\n",
<<<<<<< HEAD
       "#sk-container-id-1 div.sk-estimator:hover {\n",
=======
       "#sk-container-id-4 div.sk-estimator:hover {\n",
>>>>>>> origin/main
       "  /* unfitted */\n",
       "  background-color: var(--sklearn-color-unfitted-level-2);\n",
       "}\n",
       "\n",
<<<<<<< HEAD
       "#sk-container-id-1 div.sk-estimator.fitted:hover {\n",
=======
       "#sk-container-id-4 div.sk-estimator.fitted:hover {\n",
>>>>>>> origin/main
       "  /* fitted */\n",
       "  background-color: var(--sklearn-color-fitted-level-2);\n",
       "}\n",
       "\n",
       "/* Specification for estimator info (e.g. \"i\" and \"?\") */\n",
       "\n",
       "/* Common style for \"i\" and \"?\" */\n",
       "\n",
       ".sk-estimator-doc-link,\n",
       "a:link.sk-estimator-doc-link,\n",
       "a:visited.sk-estimator-doc-link {\n",
       "  float: right;\n",
       "  font-size: smaller;\n",
       "  line-height: 1em;\n",
       "  font-family: monospace;\n",
       "  background-color: var(--sklearn-color-background);\n",
       "  border-radius: 1em;\n",
       "  height: 1em;\n",
       "  width: 1em;\n",
       "  text-decoration: none !important;\n",
       "  margin-left: 0.5em;\n",
       "  text-align: center;\n",
       "  /* unfitted */\n",
       "  border: var(--sklearn-color-unfitted-level-1) 1pt solid;\n",
       "  color: var(--sklearn-color-unfitted-level-1);\n",
       "}\n",
       "\n",
       ".sk-estimator-doc-link.fitted,\n",
       "a:link.sk-estimator-doc-link.fitted,\n",
       "a:visited.sk-estimator-doc-link.fitted {\n",
       "  /* fitted */\n",
       "  border: var(--sklearn-color-fitted-level-1) 1pt solid;\n",
       "  color: var(--sklearn-color-fitted-level-1);\n",
       "}\n",
       "\n",
       "/* On hover */\n",
       "div.sk-estimator:hover .sk-estimator-doc-link:hover,\n",
       ".sk-estimator-doc-link:hover,\n",
       "div.sk-label-container:hover .sk-estimator-doc-link:hover,\n",
       ".sk-estimator-doc-link:hover {\n",
       "  /* unfitted */\n",
       "  background-color: var(--sklearn-color-unfitted-level-3);\n",
       "  color: var(--sklearn-color-background);\n",
       "  text-decoration: none;\n",
       "}\n",
       "\n",
       "div.sk-estimator.fitted:hover .sk-estimator-doc-link.fitted:hover,\n",
       ".sk-estimator-doc-link.fitted:hover,\n",
       "div.sk-label-container:hover .sk-estimator-doc-link.fitted:hover,\n",
       ".sk-estimator-doc-link.fitted:hover {\n",
       "  /* fitted */\n",
       "  background-color: var(--sklearn-color-fitted-level-3);\n",
       "  color: var(--sklearn-color-background);\n",
       "  text-decoration: none;\n",
       "}\n",
       "\n",
       "/* Span, style for the box shown on hovering the info icon */\n",
       ".sk-estimator-doc-link span {\n",
       "  display: none;\n",
       "  z-index: 9999;\n",
       "  position: relative;\n",
       "  font-weight: normal;\n",
       "  right: .2ex;\n",
       "  padding: .5ex;\n",
       "  margin: .5ex;\n",
       "  width: min-content;\n",
       "  min-width: 20ex;\n",
       "  max-width: 50ex;\n",
       "  color: var(--sklearn-color-text);\n",
       "  box-shadow: 2pt 2pt 4pt #999;\n",
       "  /* unfitted */\n",
       "  background: var(--sklearn-color-unfitted-level-0);\n",
       "  border: .5pt solid var(--sklearn-color-unfitted-level-3);\n",
       "}\n",
       "\n",
       ".sk-estimator-doc-link.fitted span {\n",
       "  /* fitted */\n",
       "  background: var(--sklearn-color-fitted-level-0);\n",
       "  border: var(--sklearn-color-fitted-level-3);\n",
       "}\n",
       "\n",
       ".sk-estimator-doc-link:hover span {\n",
       "  display: block;\n",
       "}\n",
       "\n",
       "/* \"?\"-specific style due to the `<a>` HTML tag */\n",
       "\n",
<<<<<<< HEAD
       "#sk-container-id-1 a.estimator_doc_link {\n",
=======
       "#sk-container-id-4 a.estimator_doc_link {\n",
>>>>>>> origin/main
       "  float: right;\n",
       "  font-size: 1rem;\n",
       "  line-height: 1em;\n",
       "  font-family: monospace;\n",
       "  background-color: var(--sklearn-color-background);\n",
       "  border-radius: 1rem;\n",
       "  height: 1rem;\n",
       "  width: 1rem;\n",
       "  text-decoration: none;\n",
       "  /* unfitted */\n",
       "  color: var(--sklearn-color-unfitted-level-1);\n",
       "  border: var(--sklearn-color-unfitted-level-1) 1pt solid;\n",
       "}\n",
       "\n",
<<<<<<< HEAD
       "#sk-container-id-1 a.estimator_doc_link.fitted {\n",
=======
       "#sk-container-id-4 a.estimator_doc_link.fitted {\n",
>>>>>>> origin/main
       "  /* fitted */\n",
       "  border: var(--sklearn-color-fitted-level-1) 1pt solid;\n",
       "  color: var(--sklearn-color-fitted-level-1);\n",
       "}\n",
       "\n",
       "/* On hover */\n",
<<<<<<< HEAD
       "#sk-container-id-1 a.estimator_doc_link:hover {\n",
=======
       "#sk-container-id-4 a.estimator_doc_link:hover {\n",
>>>>>>> origin/main
       "  /* unfitted */\n",
       "  background-color: var(--sklearn-color-unfitted-level-3);\n",
       "  color: var(--sklearn-color-background);\n",
       "  text-decoration: none;\n",
       "}\n",
       "\n",
<<<<<<< HEAD
       "#sk-container-id-1 a.estimator_doc_link.fitted:hover {\n",
       "  /* fitted */\n",
       "  background-color: var(--sklearn-color-fitted-level-3);\n",
       "}\n",
       "</style><div id=\"sk-container-id-1\" class=\"sk-top-container\"><div class=\"sk-text-repr-fallback\"><pre>LogisticRegression(max_iter=500, multi_class=&#x27;multinomial&#x27;)</pre><b>In a Jupyter environment, please rerun this cell to show the HTML representation or trust the notebook. <br />On GitHub, the HTML representation is unable to render, please try loading this page with nbviewer.org.</b></div><div class=\"sk-container\" hidden><div class=\"sk-item\"><div class=\"sk-estimator fitted sk-toggleable\"><input class=\"sk-toggleable__control sk-hidden--visually\" id=\"sk-estimator-id-1\" type=\"checkbox\" checked><label for=\"sk-estimator-id-1\" class=\"sk-toggleable__label fitted sk-toggleable__label-arrow\"><div><div>LogisticRegression</div></div><div><a class=\"sk-estimator-doc-link fitted\" rel=\"noreferrer\" target=\"_blank\" href=\"https://scikit-learn.org/1.6/modules/generated/sklearn.linear_model.LogisticRegression.html\">?<span>Documentation for LogisticRegression</span></a><span class=\"sk-estimator-doc-link fitted\">i<span>Fitted</span></span></div></label><div class=\"sk-toggleable__content fitted\"><pre>LogisticRegression(max_iter=500, multi_class=&#x27;multinomial&#x27;)</pre></div> </div></div></div></div>"
      ],
      "text/plain": [
       "LogisticRegression(max_iter=500, multi_class='multinomial')"
      ]
     },
     "execution_count": 9,
=======
       "#sk-container-id-4 a.estimator_doc_link.fitted:hover {\n",
       "  /* fitted */\n",
       "  background-color: var(--sklearn-color-fitted-level-3);\n",
       "}\n",
       "</style><div id=\"sk-container-id-4\" class=\"sk-top-container\"><div class=\"sk-text-repr-fallback\"><pre>LogisticRegression(max_iter=50, multi_class=&#x27;multinomial&#x27;)</pre><b>In a Jupyter environment, please rerun this cell to show the HTML representation or trust the notebook. <br />On GitHub, the HTML representation is unable to render, please try loading this page with nbviewer.org.</b></div><div class=\"sk-container\" hidden><div class=\"sk-item\"><div class=\"sk-estimator fitted sk-toggleable\"><input class=\"sk-toggleable__control sk-hidden--visually\" id=\"sk-estimator-id-4\" type=\"checkbox\" checked><label for=\"sk-estimator-id-4\" class=\"sk-toggleable__label fitted sk-toggleable__label-arrow\"><div><div>LogisticRegression</div></div><div><a class=\"sk-estimator-doc-link fitted\" rel=\"noreferrer\" target=\"_blank\" href=\"https://scikit-learn.org/1.6/modules/generated/sklearn.linear_model.LogisticRegression.html\">?<span>Documentation for LogisticRegression</span></a><span class=\"sk-estimator-doc-link fitted\">i<span>Fitted</span></span></div></label><div class=\"sk-toggleable__content fitted\"><pre>LogisticRegression(max_iter=50, multi_class=&#x27;multinomial&#x27;)</pre></div> </div></div></div></div>"
      ],
      "text/plain": [
       "LogisticRegression(max_iter=50, multi_class='multinomial')"
      ]
     },
     "execution_count": 86,
>>>>>>> origin/main
     "metadata": {},
     "output_type": "execute_result"
    }
   ],
   "source": [
    "%%time\n",
    "from sklearn.linear_model import LogisticRegression\n",
    "\n",
    "m1 = LogisticRegression(\n",
    "    multi_class = \"multinomial\",\n",
    "    solver = \"lbfgs\",\n",
<<<<<<< HEAD
    "    max_iter = 500)\n",
=======
    "    max_iter = 50)\n",
>>>>>>> origin/main
    "\n",
    "m1.fit(X_train_flat, y_train)"
   ]
  },
  {
   "cell_type": "code",
<<<<<<< HEAD
   "execution_count": 10,
=======
   "execution_count": 89,
>>>>>>> origin/main
   "metadata": {},
   "outputs": [],
   "source": [
    "y_pred1 = m1.predict(X_test_flat)"
   ]
  },
  {
   "cell_type": "code",
<<<<<<< HEAD
   "execution_count": 11,
=======
   "execution_count": 90,
>>>>>>> origin/main
   "metadata": {},
   "outputs": [
    {
     "name": "stdout",
     "output_type": "stream",
     "text": [
<<<<<<< HEAD
      "The accuracy of the model LogisticRegression(max_iter=500, multi_class='multinomial') is 0.3913\n"
=======
      "The accuracy of the model LogisticRegression(max_iter=50, multi_class='multinomial') is 0.3928\n"
>>>>>>> origin/main
     ]
    }
   ],
   "source": [
    "from sklearn.metrics import accuracy_score\n",
    "\n",
    "acc = accuracy_score(y_test, y_pred1)\n",
    "print(f\"The accuracy of the model {m1} is {acc}\")"
   ]
  },
  {
   "cell_type": "code",
<<<<<<< HEAD
   "execution_count": 12,
=======
   "execution_count": 91,
>>>>>>> origin/main
   "metadata": {},
   "outputs": [
    {
     "data": {
<<<<<<< HEAD
      "image/png": "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",
=======
      "image/png": "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",
>>>>>>> origin/main
      "text/plain": [
       "<Figure size 1000x800 with 2 Axes>"
      ]
     },
     "metadata": {},
     "output_type": "display_data"
    }
   ],
   "source": [
    "from sklearn.metrics import confusion_matrix\n",
    "import seaborn as sns\n",
    "\n",
    "cm1 = confusion_matrix(y_test, y_pred1)\n",
    "\n",
    "# Create a heatmap of the confusion matrix\n",
    "plt.figure(figsize=(10, 8))\n",
    "sns.heatmap(cm1, annot = True, fmt = \"d\", cmap = \"Blues\", xticklabels = np.arange(10), yticklabels = np.arange(10))\n",
    "plt.title(\"Confusion Matrix\")\n",
    "plt.xlabel(\"Predicted\")\n",
    "plt.ylabel(\"Actual\")\n",
    "plt.show()\n"
   ]
  },
  {
   "cell_type": "markdown",
   "metadata": {},
   "source": [
    "### Applying PCA to reduce the complexity."
   ]
  },
  {
   "cell_type": "code",
<<<<<<< HEAD
   "execution_count": 13,
=======
   "execution_count": 92,
>>>>>>> origin/main
   "metadata": {},
   "outputs": [],
   "source": [
    "from scipy.stats import skew, kurtosis\n",
    "from sklearn.decomposition import PCA"
   ]
  },
  {
   "cell_type": "code",
<<<<<<< HEAD
   "execution_count": 14,
=======
   "execution_count": 93,
>>>>>>> origin/main
   "metadata": {},
   "outputs": [],
   "source": [
    "def compute_general_components(images):\n",
    "    \"\"\"\n",
    "    Compute the components to apply the TSNE\n",
    "    \"\"\"\n",
    "    std_ = np.zeros(images.shape[0])\n",
    "    mean_ = np.zeros(images.shape[0])\n",
    "    skew_ = np.zeros(images.shape[0])\n",
    "    kurto_ = np.zeros(images.shape[0])\n",
    "    for count, img in enumerate(images):\n",
    "        std_[count] = np.std(img)\n",
    "        mean_[count] = np.mean(img)\n",
    "        skew_[count] = skew(img.flatten())\n",
    "        kurto_[count] = kurtosis(img.flatten())\n",
    "\n",
    "    return std_.reshape(-1, 1), mean_.reshape(-1, 1), skew_.reshape(-1, 1), kurto_.reshape(-1, 1)"
   ]
  },
  {
   "cell_type": "code",
<<<<<<< HEAD
   "execution_count": 15,
=======
   "execution_count": 107,
>>>>>>> origin/main
   "metadata": {},
   "outputs": [],
   "source": [
    "def training_LR_PCA(X_train, y_train, epoch):\n",
    "    model = LogisticRegression(\n",
    "                            multi_class = \"multinomial\",\n",
    "                            solver = \"lbfgs\",\n",
    "                            max_iter = epoch)\n",
    "    std_train, mean_train, skew_train, kurto_train = compute_general_components(X_train) # Taking the informations.\n",
    "    arr_training = np.concatenate((std_train, mean_train, skew_train, kurto_train), axis = 1)\n",
    "    #pca = PCA(n_components = 2)\n",
    "    #x_pca = pca.fit_transform(arr_training)\n",
    "    #model.fit(x_pca, y_train)\n",
    "    model.fit(arr_training, y_train)\n",
    "    \n",
    "    return model"
   ]
  },
  {
   "cell_type": "code",
<<<<<<< HEAD
   "execution_count": 16,
=======
   "execution_count": 108,
>>>>>>> origin/main
   "metadata": {},
   "outputs": [
    {
     "name": "stderr",
     "output_type": "stream",
     "text": [
      "/home/arthur/Desktop/ML_topics/IRP/final_work/TP-final-IRDP/IRP_tp/lib/python3.12/site-packages/sklearn/linear_model/_logistic.py:1247: FutureWarning: 'multi_class' was deprecated in version 1.5 and will be removed in 1.7. From then on, it will always use 'multinomial'. Leave it to its default value to avoid this warning.\n",
      "  warnings.warn(\n"
     ]
    },
    {
     "name": "stdout",
     "output_type": "stream",
     "text": [
<<<<<<< HEAD
      "CPU times: user 1min 6s, sys: 28.4 ms, total: 1min 6s\n",
      "Wall time: 1min 3s\n"
=======
      "CPU times: user 48.1 s, sys: 5.66 ms, total: 48.1 s\n",
      "Wall time: 46.2 s\n"
>>>>>>> origin/main
     ]
    },
    {
     "name": "stderr",
     "output_type": "stream",
     "text": [
      "/home/arthur/Desktop/ML_topics/IRP/final_work/TP-final-IRDP/IRP_tp/lib/python3.12/site-packages/sklearn/linear_model/_logistic.py:465: ConvergenceWarning: lbfgs failed to converge (status=1):\n",
      "STOP: TOTAL NO. OF ITERATIONS REACHED LIMIT.\n",
      "\n",
      "Increase the number of iterations (max_iter) or scale the data as shown in:\n",
      "    https://scikit-learn.org/stable/modules/preprocessing.html\n",
      "Please also refer to the documentation for alternative solver options:\n",
      "    https://scikit-learn.org/stable/modules/linear_model.html#logistic-regression\n",
      "  n_iter_i = _check_optimize_result(\n"
     ]
    }
   ],
   "source": [
    "%%time\n",
    "\n",
    "m2 = training_LR_PCA(X_train = X_train, y_train = y_train, epoch = 10)"
   ]
  },
  {
   "cell_type": "code",
<<<<<<< HEAD
   "execution_count": 17,
=======
   "execution_count": 109,
>>>>>>> origin/main
   "metadata": {},
   "outputs": [],
   "source": [
    "def testing_LR_PCA(model, X_test):\n",
    "\n",
    "    std_test, mean_test, skew_test, kurto_test = compute_general_components(X_test) # Taking the informations.\n",
    "    arr_testing = np.concatenate((std_test, mean_test, skew_test, kurto_test), axis = 1)\n",
    "    #pca = PCA(n_components = 2)\n",
    "    #x_pca = pca.fit_transform(arr_testing)\n",
    "\n",
    "    #return model.predict(x_pca)\n",
    "    return model.predict(arr_testing)"
   ]
  },
  {
   "cell_type": "code",
<<<<<<< HEAD
   "execution_count": 18,
=======
   "execution_count": 110,
>>>>>>> origin/main
   "metadata": {},
   "outputs": [],
   "source": [
    "y_pred2 = testing_LR_PCA(m2, X_test)"
   ]
  },
  {
   "cell_type": "code",
<<<<<<< HEAD
   "execution_count": 19,
=======
   "execution_count": 111,
>>>>>>> origin/main
   "metadata": {},
   "outputs": [
    {
     "data": {
      "image/png": "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",
      "text/plain": [
       "<Figure size 1000x800 with 2 Axes>"
      ]
     },
     "metadata": {},
     "output_type": "display_data"
    }
   ],
   "source": [
    "cm = confusion_matrix(y_test, y_pred2)\n",
    "\n",
    "# Create a heatmap of the confusion matrix\n",
    "plt.figure(figsize=(10, 8))\n",
    "sns.heatmap(cm, annot=True, fmt=\"d\", cmap=\"Blues\", xticklabels=np.arange(10), yticklabels=np.arange(10))\n",
    "plt.title(\"Confusion Matrix\")\n",
    "plt.xlabel(\"Predicted\")\n",
    "plt.ylabel(\"Actual\")\n",
    "plt.show()\n"
   ]
  },
  {
   "cell_type": "code",
<<<<<<< HEAD
   "execution_count": 20,
=======
   "execution_count": 112,
>>>>>>> origin/main
   "metadata": {},
   "outputs": [
    {
     "name": "stdout",
     "output_type": "stream",
     "text": [
      "The accuracy of the model LogisticRegression(max_iter=10, multi_class='multinomial') is 0.1913\n"
     ]
    }
   ],
   "source": [
    "acc2 = accuracy_score(y_test, y_pred2)\n",
    "print(f\"The accuracy of the model {m2} is {acc2}\")"
   ]
<<<<<<< HEAD
  },
  {
   "cell_type": "code",
   "execution_count": 2,
   "metadata": {},
   "outputs": [
    {
     "name": "stdout",
     "output_type": "stream",
     "text": [
      "Loaded embeddings shape: (50000, 128)\n",
      "Loaded labels shape: (50000, 1)\n"
     ]
    }
   ],
   "source": [
    "import pandas as pd\n",
    "\n",
    "# Load the saved embeddings and labels from CSV\n",
    "loaded_embeddings_df = pd.read_csv('embeddings.csv')\n",
    "loaded_labels_df = pd.read_csv('labels.csv')\n",
    "\n",
    "# Convert back to tensors (if necessary)\n",
    "#loaded_embeddings = torch.tensor(loaded_embeddings_df.values)\n",
    "#loaded_labels = torch.tensor(loaded_labels_df.values)\n",
    "\n",
    "print(f\"Loaded embeddings shape: {loaded_embeddings_df.shape}\")\n",
    "print(f\"Loaded labels shape: {loaded_labels_df.shape}\")\n"
   ]
  },
  {
   "cell_type": "code",
   "execution_count": 3,
   "metadata": {},
   "outputs": [
    {
     "data": {
      "text/html": [
       "<div>\n",
       "<style scoped>\n",
       "    .dataframe tbody tr th:only-of-type {\n",
       "        vertical-align: middle;\n",
       "    }\n",
       "\n",
       "    .dataframe tbody tr th {\n",
       "        vertical-align: top;\n",
       "    }\n",
       "\n",
       "    .dataframe thead th {\n",
       "        text-align: right;\n",
       "    }\n",
       "</style>\n",
       "<table border=\"1\" class=\"dataframe\">\n",
       "  <thead>\n",
       "    <tr style=\"text-align: right;\">\n",
       "      <th></th>\n",
       "      <th>0</th>\n",
       "      <th>1</th>\n",
       "      <th>2</th>\n",
       "      <th>3</th>\n",
       "      <th>4</th>\n",
       "      <th>5</th>\n",
       "      <th>6</th>\n",
       "      <th>7</th>\n",
       "      <th>8</th>\n",
       "      <th>9</th>\n",
       "      <th>...</th>\n",
       "      <th>118</th>\n",
       "      <th>119</th>\n",
       "      <th>120</th>\n",
       "      <th>121</th>\n",
       "      <th>122</th>\n",
       "      <th>123</th>\n",
       "      <th>124</th>\n",
       "      <th>125</th>\n",
       "      <th>126</th>\n",
       "      <th>127</th>\n",
       "    </tr>\n",
       "  </thead>\n",
       "  <tbody>\n",
       "    <tr>\n",
       "      <th>0</th>\n",
       "      <td>0.0</td>\n",
       "      <td>0.0</td>\n",
       "      <td>0.000000</td>\n",
       "      <td>0.0</td>\n",
       "      <td>0.758069</td>\n",
       "      <td>0.0</td>\n",
       "      <td>0.0</td>\n",
       "      <td>0.0</td>\n",
       "      <td>0.929798</td>\n",
       "      <td>0.0</td>\n",
       "      <td>...</td>\n",
       "      <td>1.986394</td>\n",
       "      <td>2.383681</td>\n",
       "      <td>0.000000</td>\n",
       "      <td>1.622467</td>\n",
       "      <td>4.054621</td>\n",
       "      <td>1.794378</td>\n",
       "      <td>5.643127</td>\n",
       "      <td>2.464263</td>\n",
       "      <td>0.727262</td>\n",
       "      <td>0.000000</td>\n",
       "    </tr>\n",
       "    <tr>\n",
       "      <th>1</th>\n",
       "      <td>0.0</td>\n",
       "      <td>0.0</td>\n",
       "      <td>1.519656</td>\n",
       "      <td>0.0</td>\n",
       "      <td>0.000000</td>\n",
       "      <td>0.0</td>\n",
       "      <td>0.0</td>\n",
       "      <td>0.0</td>\n",
       "      <td>1.934108</td>\n",
       "      <td>0.0</td>\n",
       "      <td>...</td>\n",
       "      <td>1.459618</td>\n",
       "      <td>0.000000</td>\n",
       "      <td>0.000000</td>\n",
       "      <td>1.434114</td>\n",
       "      <td>0.000000</td>\n",
       "      <td>2.058129</td>\n",
       "      <td>3.473111</td>\n",
       "      <td>1.794303</td>\n",
       "      <td>1.218162</td>\n",
       "      <td>0.000000</td>\n",
       "    </tr>\n",
       "    <tr>\n",
       "      <th>2</th>\n",
       "      <td>0.0</td>\n",
       "      <td>0.0</td>\n",
       "      <td>0.000000</td>\n",
       "      <td>0.0</td>\n",
       "      <td>0.000000</td>\n",
       "      <td>0.0</td>\n",
       "      <td>0.0</td>\n",
       "      <td>0.0</td>\n",
       "      <td>4.062963</td>\n",
       "      <td>0.0</td>\n",
       "      <td>...</td>\n",
       "      <td>1.088350</td>\n",
       "      <td>0.661098</td>\n",
       "      <td>0.000000</td>\n",
       "      <td>2.171391</td>\n",
       "      <td>0.000000</td>\n",
       "      <td>0.392293</td>\n",
       "      <td>4.059000</td>\n",
       "      <td>2.080294</td>\n",
       "      <td>0.000000</td>\n",
       "      <td>0.000000</td>\n",
       "    </tr>\n",
       "    <tr>\n",
       "      <th>3</th>\n",
       "      <td>0.0</td>\n",
       "      <td>0.0</td>\n",
       "      <td>1.013742</td>\n",
       "      <td>0.0</td>\n",
       "      <td>0.401625</td>\n",
       "      <td>0.0</td>\n",
       "      <td>0.0</td>\n",
       "      <td>0.0</td>\n",
       "      <td>0.623214</td>\n",
       "      <td>0.0</td>\n",
       "      <td>...</td>\n",
       "      <td>2.506044</td>\n",
       "      <td>0.119751</td>\n",
       "      <td>1.151258</td>\n",
       "      <td>3.669855</td>\n",
       "      <td>2.337376</td>\n",
       "      <td>2.192246</td>\n",
       "      <td>4.145818</td>\n",
       "      <td>1.897444</td>\n",
       "      <td>3.842050</td>\n",
       "      <td>0.837427</td>\n",
       "    </tr>\n",
       "    <tr>\n",
       "      <th>4</th>\n",
       "      <td>0.0</td>\n",
       "      <td>0.0</td>\n",
       "      <td>0.842124</td>\n",
       "      <td>0.0</td>\n",
       "      <td>1.348254</td>\n",
       "      <td>0.0</td>\n",
       "      <td>0.0</td>\n",
       "      <td>0.0</td>\n",
       "      <td>3.202197</td>\n",
       "      <td>0.0</td>\n",
       "      <td>...</td>\n",
       "      <td>1.258436</td>\n",
       "      <td>0.000000</td>\n",
       "      <td>0.000000</td>\n",
       "      <td>1.851063</td>\n",
       "      <td>0.000000</td>\n",
       "      <td>3.529149</td>\n",
       "      <td>2.141294</td>\n",
       "      <td>0.227908</td>\n",
       "      <td>0.000000</td>\n",
       "      <td>0.000000</td>\n",
       "    </tr>\n",
       "    <tr>\n",
       "      <th>...</th>\n",
       "      <td>...</td>\n",
       "      <td>...</td>\n",
       "      <td>...</td>\n",
       "      <td>...</td>\n",
       "      <td>...</td>\n",
       "      <td>...</td>\n",
       "      <td>...</td>\n",
       "      <td>...</td>\n",
       "      <td>...</td>\n",
       "      <td>...</td>\n",
       "      <td>...</td>\n",
       "      <td>...</td>\n",
       "      <td>...</td>\n",
       "      <td>...</td>\n",
       "      <td>...</td>\n",
       "      <td>...</td>\n",
       "      <td>...</td>\n",
       "      <td>...</td>\n",
       "      <td>...</td>\n",
       "      <td>...</td>\n",
       "      <td>...</td>\n",
       "    </tr>\n",
       "    <tr>\n",
       "      <th>49995</th>\n",
       "      <td>0.0</td>\n",
       "      <td>0.0</td>\n",
       "      <td>0.000000</td>\n",
       "      <td>0.0</td>\n",
       "      <td>0.232753</td>\n",
       "      <td>0.0</td>\n",
       "      <td>0.0</td>\n",
       "      <td>0.0</td>\n",
       "      <td>1.466641</td>\n",
       "      <td>0.0</td>\n",
       "      <td>...</td>\n",
       "      <td>1.221254</td>\n",
       "      <td>1.916076</td>\n",
       "      <td>0.000000</td>\n",
       "      <td>1.915818</td>\n",
       "      <td>1.199264</td>\n",
       "      <td>2.380417</td>\n",
       "      <td>6.327559</td>\n",
       "      <td>2.493399</td>\n",
       "      <td>0.299499</td>\n",
       "      <td>0.000000</td>\n",
       "    </tr>\n",
       "    <tr>\n",
       "      <th>49996</th>\n",
       "      <td>0.0</td>\n",
       "      <td>0.0</td>\n",
       "      <td>0.838516</td>\n",
       "      <td>0.0</td>\n",
       "      <td>1.040075</td>\n",
       "      <td>0.0</td>\n",
       "      <td>0.0</td>\n",
       "      <td>0.0</td>\n",
       "      <td>1.651268</td>\n",
       "      <td>0.0</td>\n",
       "      <td>...</td>\n",
       "      <td>0.742177</td>\n",
       "      <td>0.000000</td>\n",
       "      <td>0.000000</td>\n",
       "      <td>0.781027</td>\n",
       "      <td>0.000000</td>\n",
       "      <td>2.736577</td>\n",
       "      <td>2.381755</td>\n",
       "      <td>0.210174</td>\n",
       "      <td>0.419554</td>\n",
       "      <td>0.058461</td>\n",
       "    </tr>\n",
       "    <tr>\n",
       "      <th>49997</th>\n",
       "      <td>0.0</td>\n",
       "      <td>0.0</td>\n",
       "      <td>0.646109</td>\n",
       "      <td>0.0</td>\n",
       "      <td>2.016676</td>\n",
       "      <td>0.0</td>\n",
       "      <td>0.0</td>\n",
       "      <td>0.0</td>\n",
       "      <td>1.532303</td>\n",
       "      <td>0.0</td>\n",
       "      <td>...</td>\n",
       "      <td>1.402136</td>\n",
       "      <td>0.647969</td>\n",
       "      <td>1.088577</td>\n",
       "      <td>0.396798</td>\n",
       "      <td>0.302779</td>\n",
       "      <td>3.188257</td>\n",
       "      <td>2.980820</td>\n",
       "      <td>1.537580</td>\n",
       "      <td>2.112488</td>\n",
       "      <td>0.785239</td>\n",
       "    </tr>\n",
       "    <tr>\n",
       "      <th>49998</th>\n",
       "      <td>0.0</td>\n",
       "      <td>0.0</td>\n",
       "      <td>0.362708</td>\n",
       "      <td>0.0</td>\n",
       "      <td>0.013044</td>\n",
       "      <td>0.0</td>\n",
       "      <td>0.0</td>\n",
       "      <td>0.0</td>\n",
       "      <td>2.080417</td>\n",
       "      <td>0.0</td>\n",
       "      <td>...</td>\n",
       "      <td>3.194286</td>\n",
       "      <td>0.000000</td>\n",
       "      <td>0.000000</td>\n",
       "      <td>1.685830</td>\n",
       "      <td>0.463379</td>\n",
       "      <td>4.067706</td>\n",
       "      <td>3.795564</td>\n",
       "      <td>0.897343</td>\n",
       "      <td>0.000000</td>\n",
       "      <td>0.000000</td>\n",
       "    </tr>\n",
       "    <tr>\n",
       "      <th>49999</th>\n",
       "      <td>0.0</td>\n",
       "      <td>0.0</td>\n",
       "      <td>0.000000</td>\n",
       "      <td>0.0</td>\n",
       "      <td>2.593154</td>\n",
       "      <td>0.0</td>\n",
       "      <td>0.0</td>\n",
       "      <td>0.0</td>\n",
       "      <td>3.059545</td>\n",
       "      <td>0.0</td>\n",
       "      <td>...</td>\n",
       "      <td>2.211179</td>\n",
       "      <td>0.318545</td>\n",
       "      <td>0.000000</td>\n",
       "      <td>0.131478</td>\n",
       "      <td>2.400775</td>\n",
       "      <td>1.717042</td>\n",
       "      <td>2.971240</td>\n",
       "      <td>1.388382</td>\n",
       "      <td>0.000000</td>\n",
       "      <td>0.049759</td>\n",
       "    </tr>\n",
       "  </tbody>\n",
       "</table>\n",
       "<p>50000 rows × 128 columns</p>\n",
       "</div>"
      ],
      "text/plain": [
       "         0    1         2    3         4    5    6    7         8    9  ...  \\\n",
       "0      0.0  0.0  0.000000  0.0  0.758069  0.0  0.0  0.0  0.929798  0.0  ...   \n",
       "1      0.0  0.0  1.519656  0.0  0.000000  0.0  0.0  0.0  1.934108  0.0  ...   \n",
       "2      0.0  0.0  0.000000  0.0  0.000000  0.0  0.0  0.0  4.062963  0.0  ...   \n",
       "3      0.0  0.0  1.013742  0.0  0.401625  0.0  0.0  0.0  0.623214  0.0  ...   \n",
       "4      0.0  0.0  0.842124  0.0  1.348254  0.0  0.0  0.0  3.202197  0.0  ...   \n",
       "...    ...  ...       ...  ...       ...  ...  ...  ...       ...  ...  ...   \n",
       "49995  0.0  0.0  0.000000  0.0  0.232753  0.0  0.0  0.0  1.466641  0.0  ...   \n",
       "49996  0.0  0.0  0.838516  0.0  1.040075  0.0  0.0  0.0  1.651268  0.0  ...   \n",
       "49997  0.0  0.0  0.646109  0.0  2.016676  0.0  0.0  0.0  1.532303  0.0  ...   \n",
       "49998  0.0  0.0  0.362708  0.0  0.013044  0.0  0.0  0.0  2.080417  0.0  ...   \n",
       "49999  0.0  0.0  0.000000  0.0  2.593154  0.0  0.0  0.0  3.059545  0.0  ...   \n",
       "\n",
       "            118       119       120       121       122       123       124  \\\n",
       "0      1.986394  2.383681  0.000000  1.622467  4.054621  1.794378  5.643127   \n",
       "1      1.459618  0.000000  0.000000  1.434114  0.000000  2.058129  3.473111   \n",
       "2      1.088350  0.661098  0.000000  2.171391  0.000000  0.392293  4.059000   \n",
       "3      2.506044  0.119751  1.151258  3.669855  2.337376  2.192246  4.145818   \n",
       "4      1.258436  0.000000  0.000000  1.851063  0.000000  3.529149  2.141294   \n",
       "...         ...       ...       ...       ...       ...       ...       ...   \n",
       "49995  1.221254  1.916076  0.000000  1.915818  1.199264  2.380417  6.327559   \n",
       "49996  0.742177  0.000000  0.000000  0.781027  0.000000  2.736577  2.381755   \n",
       "49997  1.402136  0.647969  1.088577  0.396798  0.302779  3.188257  2.980820   \n",
       "49998  3.194286  0.000000  0.000000  1.685830  0.463379  4.067706  3.795564   \n",
       "49999  2.211179  0.318545  0.000000  0.131478  2.400775  1.717042  2.971240   \n",
       "\n",
       "            125       126       127  \n",
       "0      2.464263  0.727262  0.000000  \n",
       "1      1.794303  1.218162  0.000000  \n",
       "2      2.080294  0.000000  0.000000  \n",
       "3      1.897444  3.842050  0.837427  \n",
       "4      0.227908  0.000000  0.000000  \n",
       "...         ...       ...       ...  \n",
       "49995  2.493399  0.299499  0.000000  \n",
       "49996  0.210174  0.419554  0.058461  \n",
       "49997  1.537580  2.112488  0.785239  \n",
       "49998  0.897343  0.000000  0.000000  \n",
       "49999  1.388382  0.000000  0.049759  \n",
       "\n",
       "[50000 rows x 128 columns]"
      ]
     },
     "execution_count": 3,
     "metadata": {},
     "output_type": "execute_result"
    }
   ],
   "source": [
    "loaded_embeddings_df"
   ]
  },
  {
   "cell_type": "code",
   "execution_count": null,
   "metadata": {},
   "outputs": [],
   "source": []
=======
>>>>>>> origin/main
  }
 ],
 "metadata": {
  "kernelspec": {
   "display_name": "Python 3 (ipykernel)",
   "language": "python",
   "name": "python3"
  },
  "language_info": {
   "codemirror_mode": {
    "name": "ipython",
    "version": 3
   },
   "file_extension": ".py",
   "mimetype": "text/x-python",
   "name": "python",
   "nbconvert_exporter": "python",
   "pygments_lexer": "ipython3",
   "version": "3.12.3"
  }
 },
 "nbformat": 4,
 "nbformat_minor": 4
}
